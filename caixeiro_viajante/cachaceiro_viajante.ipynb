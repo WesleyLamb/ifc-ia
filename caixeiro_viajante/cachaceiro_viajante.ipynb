{
  "nbformat": 4,
  "nbformat_minor": 0,
  "metadata": {
    "colab": {
      "provenance": []
    },
    "kernelspec": {
      "name": "python3",
      "display_name": "Python 3"
    },
    "language_info": {
      "name": "python"
    }
  },
  "cells": [
    {
      "cell_type": "markdown",
      "source": [
        "# Tarefa Prática - Problema do caixeiro viajante\n",
        "\n",
        "Você é um viajante e deseja visitar todas as cidades de um país. Você tem um mapa com as distâncias entre todas as cidades. O problema é determinar a rota mais curta que começa em uma cidade, visita todas as outras cidades exatamente uma vez e retorna à cidade de origem. Implemente um algoritmo genético para resolver esse problema.\n",
        "\n",
        "## Representação das distâncias\n",
        "\n",
        "Considere um país com 5 cidades nomeadas de A a E. O mapa de distâncias entre as cidades é dado pela matriz abaixo:\n",
        "\n",
        "|   | A | B | C | D | E |\n",
        "|---|---|---|---|---|---|\n",
        "| A | 0 | 12 | 3 | 23 | 1 |\n",
        "| B | 12 | 0 | 9 | 18 | 3 |\n",
        "| C | 3 | 9 | 0 | 89 | 56 |\n",
        "| D | 23 | 18 | 89 | 0 | 45 |\n",
        "| E | 1 | 3 | 56 | 45 | 0 |\n",
        "\n",
        "## Instruções Adicionais\n",
        "\n",
        "Para resolver o problema, será necessário:\n",
        "\n",
        " - Considerar a matriz de distâncias fornecida acima.\n",
        " - Inicializar a população de soluções de forma aleatória (cada indivíduo é uma permutação das cidades).\n",
        " - Implementar a função *fitness* para calcular a distância total percorrida por um indivíduo. Use a função inversa da distância total do percurso como função de *fitness*.\n",
        " - Implementar a função de seleção de pais por torneio para escolher os indivíduos que irão gerar a próxima geração.\n",
        " - Implementar a função de cruzamento para gerar novos indivíduos a partir dos pais selecionados. Utilize o operador de cruzamento de ordem ou outro operador de cruzamento adequado.\n",
        " - Implementar a função de mutação para alterar aleatoriamente um indivíduo da população. Use um valor de probabilidade de mutação adequado.\n",
        " - (opcional) Implementar a função de elitismo para manter os melhores indivíduos da população atual na próxima geração."
      ],
      "metadata": {
        "id": "kUZ2hWhC9bBj"
      }
    },
    {
      "cell_type": "code",
      "execution_count": null,
      "metadata": {
        "id": "dPLD-jaW9W_p"
      },
      "outputs": [],
      "source": [
        "import random, math\n",
        "\n",
        "# Matriz com as distâncias entre cidades (A=0, B=1, C=2, D=3, E=4)\n",
        "distancias = [\n",
        "    [0, 12, 3, 23, 1],\n",
        "    [12, 0, 9, 18, 3],\n",
        "    [3, 9, 0, 89, 56],\n",
        "    [23, 18, 89, 0, 45],\n",
        "    [1, 3, 56, 45, 0]\n",
        "]\n",
        "\n",
        "# Lista das cidades representadas por números\n",
        "cidades = list(range(len(distancias)))"
      ]
    },
    {
      "cell_type": "markdown",
      "source": [
        "#Fitness"
      ],
      "metadata": {
        "id": "lW-w50ewhkGt"
      }
    },
    {
      "cell_type": "code",
      "source": [
        "def calcular_distancia(caminho):\n",
        "    distancia = 0\n",
        "    for i in range(len(caminho)):\n",
        "        origem = caminho[i]\n",
        "        destino = caminho[(i + 1) % len(caminho)]  # O % garante que volta ao início\n",
        "        distancia += distancias[origem][destino]\n",
        "    return distancia\n",
        "\n",
        "def fitness(caminho):\n",
        "    return 1 / calcular_distancia(caminho)         # Inverso da distância"
      ],
      "metadata": {
        "id": "7Dw_ZVQEhjkI"
      },
      "execution_count": null,
      "outputs": []
    },
    {
      "cell_type": "markdown",
      "source": [
        "#População inicial"
      ],
      "metadata": {
        "id": "rBd_jaPOiK9Q"
      }
    },
    {
      "cell_type": "code",
      "source": [
        "def gerar_populacao(tamanho, cidades):  # Cada indivíduo é uma lista (permutação) de cidades visitadas em ordem.\n",
        "    populacao = []\n",
        "    for _ in range(tamanho):\n",
        "        individuo = cidades[:]\n",
        "        random.shuffle(individuo)\n",
        "        populacao.append(individuo)     # embaralha a ordem (gera um caminho aleatório)\n",
        "    return populacao"
      ],
      "metadata": {
        "id": "RvpGXNh4iN-w"
      },
      "execution_count": null,
      "outputs": []
    },
    {
      "cell_type": "markdown",
      "source": [
        "#Seleção por torneio"
      ],
      "metadata": {
        "id": "HSzxcCiHijT_"
      }
    },
    {
      "cell_type": "code",
      "source": [
        "def selecao_torneio(populacao, k=3):    # Seleciona o melhor indivíduo entre 'k' escolhidos aleatoriamente.\n",
        "    competidores = random.sample(populacao, k)\n",
        "    competidores.sort(key=lambda ind: fitness(ind), reverse=True)\n",
        "    return competidores[0]              # retorna o melhor"
      ],
      "metadata": {
        "id": "5wHV6_TuilsD"
      },
      "execution_count": null,
      "outputs": []
    },
    {
      "cell_type": "markdown",
      "source": [
        "#Crossover"
      ],
      "metadata": {
        "id": "2eEnCqCTi7ws"
      }
    },
    {
      "cell_type": "code",
      "source": [
        "def crossover(pai, mae):\n",
        "    tamanho = len(pai)\n",
        "    inicio, fim = sorted(random.sample(range(tamanho), 2))\n",
        "\n",
        "    filho = [None] * tamanho\n",
        "    filho[inicio:fim] = pai[inicio:fim]\n",
        "\n",
        "    pos = fim\n",
        "    for gene in mae:\n",
        "        if gene not in filho:    # só adiciona cidades ainda não incluídas\n",
        "            if pos >= tamanho:   # se chegar no fim, volta para o início\n",
        "                pos = 0\n",
        "            filho[pos] = gene\n",
        "            pos += 1\n",
        "    return filho"
      ],
      "metadata": {
        "id": "3B4kxVJZi86D"
      },
      "execution_count": null,
      "outputs": []
    },
    {
      "cell_type": "markdown",
      "source": [
        "#Mutação"
      ],
      "metadata": {
        "id": "qLN6DWYjjgNm"
      }
    },
    {
      "cell_type": "code",
      "source": [
        "def mutacao(individuo, taxa=0.1):\n",
        "    if random.random() < taxa:\n",
        "        i, j = random.sample(range(len(individuo)), 2)\n",
        "        individuo[i], individuo[j] = individuo[j], individuo[i]\n",
        "    return individuo"
      ],
      "metadata": {
        "id": "5UVwy5dyjhWf"
      },
      "execution_count": null,
      "outputs": []
    },
    {
      "cell_type": "markdown",
      "source": [
        "#Elitismo"
      ],
      "metadata": {
        "id": "noKOOlD4jyNM"
      }
    },
    {
      "cell_type": "code",
      "source": [
        "def algoritmo_genetico(geracoes=500, tam_pop=20, taxa_mutacao=0.1, elitismo=True):\n",
        "    populacao = gerar_populacao(tam_pop, cidades)\n",
        "\n",
        "    for g in range(geracoes):\n",
        "        nova_populacao = []\n",
        "\n",
        "        if elitismo:   # Elitismo: mantém o melhor indivíduo da geração atual\n",
        "            populacao.sort(key=lambda ind: fitness(ind), reverse=True)\n",
        "            elite = populacao[0]\n",
        "            nova_populacao.append(elite)\n",
        "\n",
        "        while len(nova_populacao) < tam_pop:     # Gera novos indivíduos até completar a população\n",
        "            pai = selecao_torneio(populacao)\n",
        "            mae = selecao_torneio(populacao)\n",
        "            filho = crossover(pai, mae)\n",
        "            filho = mutacao(filho, taxa_mutacao)\n",
        "            nova_populacao.append(filho)\n",
        "\n",
        "        populacao = nova_populacao\n",
        "\n",
        "    melhor = max(populacao, key=lambda ind: fitness(ind))\n",
        "    return melhor, calcular_distancia(melhor)    # retorna o melhor indivíduo da última geração"
      ],
      "metadata": {
        "id": "fcaBGM1kj0rm"
      },
      "execution_count": null,
      "outputs": []
    },
    {
      "cell_type": "markdown",
      "source": [
        "# Testando"
      ],
      "metadata": {
        "id": "tMNk_Yz7lKWn"
      }
    },
    {
      "cell_type": "code",
      "source": [
        "melhor_caminho, melhor_distancia = algoritmo_genetico()\n",
        "print(\"Melhor caminho (cidades como números):\", melhor_caminho)\n",
        "print(\"Distância:\", melhor_distancia)\n",
        "\n",
        "# Traduzido para letras\n",
        "nomes = ['A', 'B', 'C', 'D', 'E']\n",
        "print(\"Melhor caminho (cidades como letras):\", [nomes[i] for i in melhor_caminho])"
      ],
      "metadata": {
        "id": "ScSZanKoko_1",
        "colab": {
          "base_uri": "https://localhost:8080/"
        },
        "outputId": "7c1b4619-294e-4c8e-fd61-d21d25714307"
      },
      "execution_count": null,
      "outputs": [
        {
          "output_type": "stream",
          "name": "stdout",
          "text": [
            "Melhor caminho (cidades como números): [4, 3, 1, 2, 0]\n",
            "Distância: 76\n",
            "Melhor caminho (cidades como letras): ['E', 'D', 'B', 'C', 'A']\n"
          ]
        }
      ]
    }
  ]
}